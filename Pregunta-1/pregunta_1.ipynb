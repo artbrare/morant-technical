{
  "cells": [
    {
      "cell_type": "code",
      "execution_count": 1,
      "metadata": {
        "id": "5o4vmhOA_lLn"
      },
      "outputs": [],
      "source": [
        "# !pip install pyreadr"
      ]
    },
    {
      "attachments": {},
      "cell_type": "markdown",
      "metadata": {
        "id": "JlZkinvj_tsq"
      },
      "source": [
        "# Morant Consultores - Evaluación Inicial\n",
        "\n",
        "\n",
        "---\n",
        "\n",
        "> Resuelto por: *Arturo Bravo Reynaga*"
      ]
    },
    {
      "cell_type": "code",
      "execution_count": 2,
      "metadata": {
        "id": "pMrHOske_wIr"
      },
      "outputs": [],
      "source": [
        "import pandas as pd\n",
        "import seaborn as sns\n",
        "import matplotlib.pyplot as plt\n",
        "import pyreadr\n",
        "\n",
        "sns.set(style=\"darkgrid\")"
      ]
    },
    {
      "attachments": {},
      "cell_type": "markdown",
      "metadata": {
        "id": "Xygkv8vz__P6"
      },
      "source": [
        "# Problema 1\n",
        "\n",
        "Descargue la base de datos electoral ubicada en data/electoral.rda. La base de datos contiene las variables casillas, partido_a, partido_b, partido_c, votos_total, lista_nominal y corresponden a datos de una elección ficticia. Suponga que tiene que reportar a un cliente los resultados de la elección.\n",
        "\n",
        "Elija la información que reportaría e inclúyala en el R markdown donde entregará sus respuestas. El reporte puede incluir, pero no necesariamente limitarse a comunicar: en qué lugar quedó cada partido, el número de casillas en las que resultó ganador cada partido, una descripción de la participación ciudadana.\n",
        "\n",
        "Para reportar puede utilizar texto, gráficas, mapas o tablas. Recuerde que un mejor reporte es aquel que tiene mayor contenido de relevancia con la menor cantidad de elementos. Si requiere de un mapa, puede utilizar el ubicado en data/mapa.rda. Para esto deberá tener instalado el paquete sf."
      ]
    },
    {
      "cell_type": "code",
      "execution_count": 3,
      "metadata": {
        "colab": {
          "base_uri": "https://localhost:8080/"
        },
        "id": "-akJhrKj_ypd",
        "outputId": "ab4c725e-5c85-45ab-d515-f8fbca152c3c"
      },
      "outputs": [
        {
          "name": "stdout",
          "output_type": "stream",
          "text": [
            "<class 'pandas.core.frame.DataFrame'>\n",
            "RangeIndex: 50 entries, 0 to 49\n",
            "Data columns (total 6 columns):\n",
            " #   Column         Non-Null Count  Dtype \n",
            "---  ------         --------------  ----- \n",
            " 0   casilla        50 non-null     object\n",
            " 1   partido_a      50 non-null     int64 \n",
            " 2   partido_b      50 non-null     int64 \n",
            " 3   partido_c      50 non-null     int64 \n",
            " 4   votos_total    50 non-null     int64 \n",
            " 5   lista_nominal  50 non-null     int64 \n",
            "dtypes: int64(5), object(1)\n",
            "memory usage: 2.5+ KB\n"
          ]
        }
      ],
      "source": [
        "result = pyreadr.read_r('electoral.rda')\n",
        "df = result[None]\n",
        "\n",
        "# casteamos nuestras columnas a valores enteros ya que ningún valor contiene\n",
        "# decimales\n",
        "df = df.astype({\n",
        "    \"casilla\": \"int\",\n",
        "    \"partido_a\": \"int\",\n",
        "    \"partido_b\": \"int\",\n",
        "    \"partido_c\": \"int\",\n",
        "    \"votos_total\": \"int\",\n",
        "    \"lista_nominal\": \"int\",\n",
        "    })\n",
        "\n",
        "df = df.astype({\"casilla\": \"str\"})\n",
        "\n",
        "df.info()"
      ]
    },
    {
      "cell_type": "code",
      "execution_count": 4,
      "metadata": {
        "id": "vkWmAA4vAHFt"
      },
      "outputs": [],
      "source": [
        "df[\"nulos_otros_partidos\"] = df[\"votos_total\"] - df[\"partido_a\"] - df[\"partido_b\"] - df[\"partido_c\"]"
      ]
    },
    {
      "cell_type": "code",
      "execution_count": 5,
      "metadata": {
        "colab": {
          "base_uri": "https://localhost:8080/",
          "height": 206
        },
        "id": "3H_j7KmBw-o2",
        "outputId": "0c737b3d-b1cc-4dc9-ece7-99d8c57f10d2"
      },
      "outputs": [
        {
          "data": {
            "text/html": [
              "<div>\n",
              "<style scoped>\n",
              "    .dataframe tbody tr th:only-of-type {\n",
              "        vertical-align: middle;\n",
              "    }\n",
              "\n",
              "    .dataframe tbody tr th {\n",
              "        vertical-align: top;\n",
              "    }\n",
              "\n",
              "    .dataframe thead th {\n",
              "        text-align: right;\n",
              "    }\n",
              "</style>\n",
              "<table border=\"1\" class=\"dataframe\">\n",
              "  <thead>\n",
              "    <tr style=\"text-align: right;\">\n",
              "      <th></th>\n",
              "      <th>casilla</th>\n",
              "      <th>partido_a</th>\n",
              "      <th>partido_b</th>\n",
              "      <th>partido_c</th>\n",
              "      <th>votos_total</th>\n",
              "      <th>lista_nominal</th>\n",
              "      <th>nulos_otros_partidos</th>\n",
              "    </tr>\n",
              "  </thead>\n",
              "  <tbody>\n",
              "    <tr>\n",
              "      <th>0</th>\n",
              "      <td>1</td>\n",
              "      <td>174</td>\n",
              "      <td>355</td>\n",
              "      <td>556</td>\n",
              "      <td>1313</td>\n",
              "      <td>1837</td>\n",
              "      <td>228</td>\n",
              "    </tr>\n",
              "    <tr>\n",
              "      <th>1</th>\n",
              "      <td>2</td>\n",
              "      <td>170</td>\n",
              "      <td>349</td>\n",
              "      <td>505</td>\n",
              "      <td>1270</td>\n",
              "      <td>1777</td>\n",
              "      <td>246</td>\n",
              "    </tr>\n",
              "    <tr>\n",
              "      <th>2</th>\n",
              "      <td>3</td>\n",
              "      <td>273</td>\n",
              "      <td>399</td>\n",
              "      <td>758</td>\n",
              "      <td>1680</td>\n",
              "      <td>2481</td>\n",
              "      <td>250</td>\n",
              "    </tr>\n",
              "    <tr>\n",
              "      <th>3</th>\n",
              "      <td>4</td>\n",
              "      <td>100</td>\n",
              "      <td>473</td>\n",
              "      <td>471</td>\n",
              "      <td>1294</td>\n",
              "      <td>2250</td>\n",
              "      <td>250</td>\n",
              "    </tr>\n",
              "    <tr>\n",
              "      <th>4</th>\n",
              "      <td>5</td>\n",
              "      <td>40</td>\n",
              "      <td>337</td>\n",
              "      <td>142</td>\n",
              "      <td>557</td>\n",
              "      <td>828</td>\n",
              "      <td>38</td>\n",
              "    </tr>\n",
              "  </tbody>\n",
              "</table>\n",
              "</div>"
            ],
            "text/plain": [
              "  casilla  partido_a  partido_b  partido_c  votos_total  lista_nominal  \\\n",
              "0       1        174        355        556         1313           1837   \n",
              "1       2        170        349        505         1270           1777   \n",
              "2       3        273        399        758         1680           2481   \n",
              "3       4        100        473        471         1294           2250   \n",
              "4       5         40        337        142          557            828   \n",
              "\n",
              "   nulos_otros_partidos  \n",
              "0                   228  \n",
              "1                   246  \n",
              "2                   250  \n",
              "3                   250  \n",
              "4                    38  "
            ]
          },
          "execution_count": 5,
          "metadata": {},
          "output_type": "execute_result"
        }
      ],
      "source": [
        "df.head()"
      ]
    },
    {
      "attachments": {},
      "cell_type": "markdown",
      "metadata": {
        "id": "olRXGPJzEt-1"
      },
      "source": [
        "## Resultados generales de la elección\n",
        "\n",
        "A continuación observamos los resultados generales de la elección, los cuales muestran el lugar en el que quedó cada partido y la participación que se tuvo en la elección."
      ]
    },
    {
      "cell_type": "code",
      "execution_count": 6,
      "metadata": {
        "colab": {
          "base_uri": "https://localhost:8080/",
          "height": 601
        },
        "id": "00L2MRcxB4VD",
        "outputId": "1a4e14bc-cf8c-4c48-983e-e84f8b99ad45"
      },
      "outputs": [
        {
          "data": {
            "image/png": "[encoded data removed]",
            "text/plain": [
              "<Figure size 1200x600 with 2 Axes>"
            ]
          },
          "metadata": {},
          "output_type": "display_data"
        }
      ],
      "source": [
        "# Calcular el total de votos por partido\n",
        "total_votos = df[['partido_a', 'partido_b', 'partido_c']].sum()\n",
        "\n",
        "# Calcular el porcentaje de votos por partido\n",
        "porcentaje_votos = total_votos / df['votos_total'].sum() * 100\n",
        "\n",
        "fig, axes = plt.subplots(1, 2, figsize=(12, 6))\n",
        "\n",
        "# Gráfica 1: Total de votos por partido\n",
        "sns.barplot(ax=axes[0], x=total_votos.index, y=total_votos.values)\n",
        "axes[0].set_title('Total de votos por partido')\n",
        "axes[0].set_xlabel('Partido')\n",
        "axes[0].set_ylabel('Votos')\n",
        "\n",
        "for i, valor in enumerate(total_votos.values):\n",
        "  axes[0].text(i, valor, str(valor), ha='center', va='bottom')\n",
        "\n",
        "# Gráfica 2: Porcentaje de votos por partido\n",
        "axes[1].pie(porcentaje_votos.values, labels=porcentaje_votos.index, autopct='%1.1f%%')\n",
        "axes[1].set_title('Porcentaje de votos por partido')\n",
        "axes[1].set_ylabel('')\n",
        "\n",
        "plt.tight_layout()\n",
        "plt.show()"
      ]
    },
    {
      "attachments": {},
      "cell_type": "markdown",
      "metadata": {
        "id": "Hglsj13uLm2E"
      },
      "source": [
        "Observamos que *partido_b* ganó la elección con 16,828 votos (36.0%) contra los 16,476 (35.2%) votos del *partido_c*, teniendo una margen de victoria de sólamente 0.8%. El *partido_a* se quedó atrás con 13,499 (28.8%)."
      ]
    },
    {
      "attachments": {},
      "cell_type": "markdown",
      "metadata": {
        "id": "Sgsv2EFsOTZJ"
      },
      "source": [
        "## Participación ciudadana\n",
        "\n",
        "La participación ciudadana nos ayuda a ver el grado de involucramiento de la población en el proceso electoral. Una alta participación puede ser un indicador de una democracia saludable y de la confianza de los ciudadanos en el sistema político. Por otro lado, una baja participación puede indicar desinterés, desconfianza o apatía respecto a la elección."
      ]
    },
    {
      "cell_type": "code",
      "execution_count": 7,
      "metadata": {
        "colab": {
          "base_uri": "https://localhost:8080/"
        },
        "id": "NYoN7lbYMSxO",
        "outputId": "d8661d56-8cc9-4d8e-e298-90693500a497"
      },
      "outputs": [
        {
          "name": "stdout",
          "output_type": "stream",
          "text": [
            "64.00%\n"
          ]
        }
      ],
      "source": [
        "participacion_general = (df[\"votos_total\"].sum() / df[\"lista_nominal\"].sum()) * 100\n",
        "print(f'{participacion_general:.2f}%')"
      ]
    },
    {
      "attachments": {},
      "cell_type": "markdown",
      "metadata": {
        "id": "wUZI49yrPWW3"
      },
      "source": [
        "Una participación del 64% indica que una proporción significativa de la población elegible para votar decidió ejercer su derecho y responsabilidad cívica. Esto sugiere un nivel razonable de interés y compromiso ciudadano en la elección."
      ]
    },
    {
      "cell_type": "code",
      "execution_count": 8,
      "metadata": {
        "colab": {
          "base_uri": "https://localhost:8080/",
          "height": 206
        },
        "id": "9kmeRTGPqvTY",
        "outputId": "3815e7c9-857e-4e51-b58b-3f101f724e02"
      },
      "outputs": [
        {
          "data": {
            "text/html": [
              "<div>\n",
              "<style scoped>\n",
              "    .dataframe tbody tr th:only-of-type {\n",
              "        vertical-align: middle;\n",
              "    }\n",
              "\n",
              "    .dataframe tbody tr th {\n",
              "        vertical-align: top;\n",
              "    }\n",
              "\n",
              "    .dataframe thead th {\n",
              "        text-align: right;\n",
              "    }\n",
              "</style>\n",
              "<table border=\"1\" class=\"dataframe\">\n",
              "  <thead>\n",
              "    <tr style=\"text-align: right;\">\n",
              "      <th></th>\n",
              "      <th>casilla</th>\n",
              "      <th>participacion</th>\n",
              "    </tr>\n",
              "  </thead>\n",
              "  <tbody>\n",
              "    <tr>\n",
              "      <th>35</th>\n",
              "      <td>36</td>\n",
              "      <td>0.723502</td>\n",
              "    </tr>\n",
              "    <tr>\n",
              "      <th>13</th>\n",
              "      <td>14</td>\n",
              "      <td>0.719938</td>\n",
              "    </tr>\n",
              "    <tr>\n",
              "      <th>29</th>\n",
              "      <td>30</td>\n",
              "      <td>0.716236</td>\n",
              "    </tr>\n",
              "    <tr>\n",
              "      <th>0</th>\n",
              "      <td>1</td>\n",
              "      <td>0.714752</td>\n",
              "    </tr>\n",
              "    <tr>\n",
              "      <th>1</th>\n",
              "      <td>2</td>\n",
              "      <td>0.714688</td>\n",
              "    </tr>\n",
              "  </tbody>\n",
              "</table>\n",
              "</div>"
            ],
            "text/plain": [
              "   casilla  participacion\n",
              "35      36       0.723502\n",
              "13      14       0.719938\n",
              "29      30       0.716236\n",
              "0        1       0.714752\n",
              "1        2       0.714688"
            ]
          },
          "execution_count": 8,
          "metadata": {},
          "output_type": "execute_result"
        }
      ],
      "source": [
        "df[\"participacion\"] = df[\"votos_total\"] / df[\"lista_nominal\"]\n",
        "\n",
        "df_sorted_by_participacion = df.sort_values('participacion', ascending=False)\n",
        "df_sorted_by_participacion[[\"casilla\", \"participacion\"]].head()"
      ]
    },
    {
      "attachments": {},
      "cell_type": "markdown",
      "metadata": {
        "id": "jGrx6HF4rPqa"
      },
      "source": [
        "Observamos que las casillas 36, 14, 30, 1 y 2 son las casillas con mayor participación ciudadana con más del 71.46% de participación"
      ]
    },
    {
      "cell_type": "code",
      "execution_count": 9,
      "metadata": {
        "colab": {
          "base_uri": "https://localhost:8080/",
          "height": 206
        },
        "id": "aALpaz2erfNM",
        "outputId": "dbf9b897-55c0-421a-8526-1644872d2390"
      },
      "outputs": [
        {
          "data": {
            "text/html": [
              "<div>\n",
              "<style scoped>\n",
              "    .dataframe tbody tr th:only-of-type {\n",
              "        vertical-align: middle;\n",
              "    }\n",
              "\n",
              "    .dataframe tbody tr th {\n",
              "        vertical-align: top;\n",
              "    }\n",
              "\n",
              "    .dataframe thead th {\n",
              "        text-align: right;\n",
              "    }\n",
              "</style>\n",
              "<table border=\"1\" class=\"dataframe\">\n",
              "  <thead>\n",
              "    <tr style=\"text-align: right;\">\n",
              "      <th></th>\n",
              "      <th>casilla</th>\n",
              "      <th>participacion</th>\n",
              "    </tr>\n",
              "  </thead>\n",
              "  <tbody>\n",
              "    <tr>\n",
              "      <th>3</th>\n",
              "      <td>4</td>\n",
              "      <td>0.575111</td>\n",
              "    </tr>\n",
              "    <tr>\n",
              "      <th>10</th>\n",
              "      <td>11</td>\n",
              "      <td>0.554987</td>\n",
              "    </tr>\n",
              "    <tr>\n",
              "      <th>43</th>\n",
              "      <td>44</td>\n",
              "      <td>0.535351</td>\n",
              "    </tr>\n",
              "    <tr>\n",
              "      <th>9</th>\n",
              "      <td>10</td>\n",
              "      <td>0.526916</td>\n",
              "    </tr>\n",
              "    <tr>\n",
              "      <th>18</th>\n",
              "      <td>19</td>\n",
              "      <td>0.513966</td>\n",
              "    </tr>\n",
              "  </tbody>\n",
              "</table>\n",
              "</div>"
            ],
            "text/plain": [
              "   casilla  participacion\n",
              "3        4       0.575111\n",
              "10      11       0.554987\n",
              "43      44       0.535351\n",
              "9       10       0.526916\n",
              "18      19       0.513966"
            ]
          },
          "execution_count": 9,
          "metadata": {},
          "output_type": "execute_result"
        }
      ],
      "source": [
        "df_sorted_by_participacion[[\"casilla\", \"participacion\"]].tail()"
      ]
    },
    {
      "attachments": {},
      "cell_type": "markdown",
      "metadata": {
        "id": "Q8SabQeOrixt"
      },
      "source": [
        "De igual manera, observamos que las casillas 4, 11, 44, 10 y 19 son las casillas con menor participación ciudadana, la última con una participación de apenas 51.39%"
      ]
    },
    {
      "attachments": {},
      "cell_type": "markdown",
      "metadata": {
        "id": "-4tCH9_oprRB"
      },
      "source": [
        "## Ganadores por casillas"
      ]
    },
    {
      "cell_type": "code",
      "execution_count": 10,
      "metadata": {
        "colab": {
          "base_uri": "https://localhost:8080/",
          "height": 481
        },
        "id": "HMdJVYXNPDlo",
        "outputId": "ae3bcd63-a463-4982-f5ae-795d97f10b3d"
      },
      "outputs": [
        {
          "data": {
            "image/png": "[encoded data removed]",
            "text/plain": [
              "<Figure size 640x480 with 1 Axes>"
            ]
          },
          "metadata": {},
          "output_type": "display_data"
        }
      ],
      "source": [
        "# Calcular el partido ganador en cada casilla\n",
        "df['ganador'] = df[['partido_a', 'partido_b', 'partido_c']].idxmax(axis=1)\n",
        "\n",
        "# Contar cuántas casillas ganó cada partido\n",
        "ganadores_por_partido = df['ganador'].value_counts().sort_index()\n",
        "\n",
        "data = pd.DataFrame({\n",
        "    'Partido': ganadores_por_partido.index,\n",
        "    'Casillas Ganadas': ganadores_por_partido.values\n",
        "})\n",
        "\n",
        "\n",
        "sns.barplot(data=data, x='Partido', y='Casillas Ganadas')\n",
        "plt.xlabel('Partido')\n",
        "\n",
        "for index, row in data.iterrows():\n",
        "    plt.annotate(str(row['Casillas Ganadas']),\n",
        "                 xy=(index, row['Casillas Ganadas']),\n",
        "                 ha='center', va='bottom')\n",
        "\n",
        "\n",
        "plt.ylabel('Cantidad de Casillas Ganadas')\n",
        "plt.title('Casillas Ganadas por Partido')\n",
        "plt.show()"
      ]
    },
    {
      "attachments": {},
      "cell_type": "markdown",
      "metadata": {
        "id": "JT4Tn-YYT81B"
      },
      "source": [
        "Notamos que *partido_b* ganó en 28 casillas computadas, y aunque *partido_c* perdió por un margen menor al 1% la elección, vemos que ganó sólamente en 9 de 50 casillas computadas. De hecho, notamos que *partido_c* al ser el claro competidor de *partido_b*, en términos de casillas computadas, obtuvo 4 menos que *partido_a* que en totalidad de votos, quedó en tercer lugar por un margen considerable.\n",
        "\n",
        "\n",
        "Lo que vuelve interesante la siguiente gráfica:"
      ]
    },
    {
      "cell_type": "code",
      "execution_count": 11,
      "metadata": {
        "colab": {
          "base_uri": "https://localhost:8080/",
          "height": 726
        },
        "id": "hWO3CDhjmrLX",
        "outputId": "390b7a44-031c-403d-d0a1-a88e513d8372"
      },
      "outputs": [
        {
          "data": {
            "image/png": "[encoded data removed]",
            "text/plain": [
              "<Figure size 1200x800 with 1 Axes>"
            ]
          },
          "metadata": {},
          "output_type": "display_data"
        }
      ],
      "source": [
        "df_sorted = df.sort_values('votos_total', ascending=False)\n",
        "\n",
        "plt.figure(figsize=(12, 8))\n",
        "\n",
        "colores = {'partido_a': '#7b9fe0', 'partido_b': '#e79f7b', 'partido_c': '#81e07b'}\n",
        "\n",
        "sns.barplot(data=df_sorted, x='casilla', y='votos_total', hue='ganador', palette=colores, dodge=False)\n",
        "\n",
        "# Crear el cuadro de leyenda con los colores de cada partido\n",
        "legend_labels = list(colores.keys())\n",
        "legend_handles = [plt.Rectangle((0, 0), 1, 1, color=colores[key]) for key in legend_labels]\n",
        "plt.legend(legend_handles, legend_labels)\n",
        "\n",
        "plt.title('Votos Totales por Casilla')\n",
        "plt.xlabel('Casilla')\n",
        "plt.ylabel('Votos Totales')\n",
        "\n",
        "plt.xticks(rotation=90, fontsize=8)\n",
        "\n",
        "plt.show()"
      ]
    },
    {
      "attachments": {},
      "cell_type": "markdown",
      "metadata": {
        "id": "MeHQZF2No1V1"
      },
      "source": [
        "Podemos observar en el gráfico que *partido_b* ganó la mayoría de las casillas con menos votos y que fue suficiente para ganarle a los otros dos partidos.\n",
        "\n",
        "Además, notamos que *partido_a* ganó más de las casillas con más votos, sin embargo, perdió en su totalidad contra *partido_c* y esto se debe a que las victorias que tuvo *partido_c* fueron más claras que aquellas que obtuvo *partido_a*. Es decir, *partido_c* tiene una mayor consolidación en aquellas casillas donde fue triunfador."
      ]
    },
    {
      "attachments": {},
      "cell_type": "markdown",
      "metadata": {
        "id": "2x8gZh8UsZ1j"
      },
      "source": [
        "## Resultados por partido\n",
        "\n",
        "Como hemos visto en el presente análisis, el resultado de la elección ha sido bastante interesante y los partidos tuvieron rendimientos distintos. Por ejemplo, *partido_b*, que ganó la elección tuvo un gran rendimiento en casillas donde las listas nominales eran más chicas. *partido_a*, quien tuvo un rendimiento muy bueno en casillas \"grandes\", se quedó en último lugar. Por esto es interesante análisis el rendimiento en la elección de manera individual."
      ]
    },
    {
      "attachments": {},
      "cell_type": "markdown",
      "metadata": {
        "id": "hH-Ixh8VtR-h"
      },
      "source": [
        "### Partido A\n",
        "\n",
        "*partido_a* quedó en 3er lugar en la elección, sin embargo, tuvo más casillas ganadas que *partido_c*, y las casillas donde ganó, tenían listas nominales más grandes que las que ganaron *partido_c* y *partido_b. Por lo anterior, es interesante indagar un poco más en el rendimiento de *partido_a* en la elección.\n",
        "\n",
        "Primero, observamos en cuántas casillas *partido_a* quedó en primero, en segundo y en tercer lugar."
      ]
    },
    {
      "cell_type": "code",
      "execution_count": 12,
      "metadata": {
        "colab": {
          "base_uri": "https://localhost:8080/"
        },
        "id": "yOI9L-nPm-us",
        "outputId": "5ef0be8a-3d1a-4fba-a69d-ccfc70fefd43"
      },
      "outputs": [
        {
          "data": {
            "text/plain": [
              "primer_lugar     13\n",
              "segundo_lugar     5\n",
              "tercer_lugar     32\n",
              "Name: partido_a, dtype: int64"
            ]
          },
          "execution_count": 12,
          "metadata": {},
          "output_type": "execute_result"
        }
      ],
      "source": [
        "partido_a_primer_lugar = df[(df['partido_a'] > df['partido_b']) & (df['partido_a'] > df['partido_c'])]\n",
        "partido_a_segundo_lugar = df[((df['partido_a'] < df['partido_b']) & (df['partido_a'] > df['partido_c'])) |\n",
        "                              ((df['partido_a'] < df['partido_c']) & (df['partido_a'] > df['partido_b']))]\n",
        "partido_a_tercer_lugar = df[(df['partido_a'] < df['partido_b']) & (df['partido_a'] < df['partido_c'])]\n",
        "\n",
        "df_podio = pd.DataFrame({\n",
        "    'partido': ['partido_a'],\n",
        "    'primer_lugar': [partido_a_primer_lugar.shape[0]],\n",
        "    'segundo_lugar': [partido_a_segundo_lugar.shape[0]],\n",
        "    'tercer_lugar': [partido_a_tercer_lugar.shape[0]]\n",
        "}).set_index('partido')\n",
        "\n",
        "df_podio.loc['partido_a']"
      ]
    },
    {
      "attachments": {},
      "cell_type": "markdown",
      "metadata": {
        "id": "ih8uv7dM1UaH"
      },
      "source": [
        "Podemos observar que, *partido_a* obtuvo un tercer lugar en 32 de las 50 casillas computadas, lo que hace sentido con que haya quedado en último lugar."
      ]
    },
    {
      "cell_type": "code",
      "execution_count": 13,
      "metadata": {
        "colab": {
          "base_uri": "https://localhost:8080/",
          "height": 457
        },
        "id": "H33MksJ-6QiE",
        "outputId": "ec8d1590-6334-450e-c7e1-108e3910d4be"
      },
      "outputs": [
        {
          "data": {
            "text/html": [
              "<div>\n",
              "<style scoped>\n",
              "    .dataframe tbody tr th:only-of-type {\n",
              "        vertical-align: middle;\n",
              "    }\n",
              "\n",
              "    .dataframe tbody tr th {\n",
              "        vertical-align: top;\n",
              "    }\n",
              "\n",
              "    .dataframe thead th {\n",
              "        text-align: right;\n",
              "    }\n",
              "</style>\n",
              "<table border=\"1\" class=\"dataframe\">\n",
              "  <thead>\n",
              "    <tr style=\"text-align: right;\">\n",
              "      <th></th>\n",
              "      <th>casilla</th>\n",
              "      <th>partido_a</th>\n",
              "      <th>partido_b</th>\n",
              "      <th>partido_c</th>\n",
              "      <th>votos_total</th>\n",
              "      <th>lista_nominal</th>\n",
              "      <th>nulos_otros_partidos</th>\n",
              "      <th>participacion</th>\n",
              "      <th>ganador</th>\n",
              "    </tr>\n",
              "  </thead>\n",
              "  <tbody>\n",
              "    <tr>\n",
              "      <th>19</th>\n",
              "      <td>20</td>\n",
              "      <td>392</td>\n",
              "      <td>356</td>\n",
              "      <td>245</td>\n",
              "      <td>1442</td>\n",
              "      <td>2369</td>\n",
              "      <td>449</td>\n",
              "      <td>0.608696</td>\n",
              "      <td>partido_a</td>\n",
              "    </tr>\n",
              "    <tr>\n",
              "      <th>30</th>\n",
              "      <td>31</td>\n",
              "      <td>326</td>\n",
              "      <td>290</td>\n",
              "      <td>216</td>\n",
              "      <td>1293</td>\n",
              "      <td>1962</td>\n",
              "      <td>461</td>\n",
              "      <td>0.659021</td>\n",
              "      <td>partido_a</td>\n",
              "    </tr>\n",
              "    <tr>\n",
              "      <th>32</th>\n",
              "      <td>33</td>\n",
              "      <td>558</td>\n",
              "      <td>352</td>\n",
              "      <td>536</td>\n",
              "      <td>1721</td>\n",
              "      <td>2476</td>\n",
              "      <td>275</td>\n",
              "      <td>0.695073</td>\n",
              "      <td>partido_a</td>\n",
              "    </tr>\n",
              "    <tr>\n",
              "      <th>33</th>\n",
              "      <td>34</td>\n",
              "      <td>642</td>\n",
              "      <td>403</td>\n",
              "      <td>463</td>\n",
              "      <td>1738</td>\n",
              "      <td>2513</td>\n",
              "      <td>230</td>\n",
              "      <td>0.691604</td>\n",
              "      <td>partido_a</td>\n",
              "    </tr>\n",
              "    <tr>\n",
              "      <th>39</th>\n",
              "      <td>40</td>\n",
              "      <td>238</td>\n",
              "      <td>234</td>\n",
              "      <td>135</td>\n",
              "      <td>708</td>\n",
              "      <td>998</td>\n",
              "      <td>101</td>\n",
              "      <td>0.709419</td>\n",
              "      <td>partido_a</td>\n",
              "    </tr>\n",
              "    <tr>\n",
              "      <th>40</th>\n",
              "      <td>41</td>\n",
              "      <td>440</td>\n",
              "      <td>371</td>\n",
              "      <td>419</td>\n",
              "      <td>1480</td>\n",
              "      <td>2341</td>\n",
              "      <td>250</td>\n",
              "      <td>0.632208</td>\n",
              "      <td>partido_a</td>\n",
              "    </tr>\n",
              "    <tr>\n",
              "      <th>41</th>\n",
              "      <td>42</td>\n",
              "      <td>424</td>\n",
              "      <td>312</td>\n",
              "      <td>352</td>\n",
              "      <td>1318</td>\n",
              "      <td>1973</td>\n",
              "      <td>230</td>\n",
              "      <td>0.668018</td>\n",
              "      <td>partido_a</td>\n",
              "    </tr>\n",
              "    <tr>\n",
              "      <th>43</th>\n",
              "      <td>44</td>\n",
              "      <td>800</td>\n",
              "      <td>560</td>\n",
              "      <td>762</td>\n",
              "      <td>2423</td>\n",
              "      <td>4526</td>\n",
              "      <td>301</td>\n",
              "      <td>0.535351</td>\n",
              "      <td>partido_a</td>\n",
              "    </tr>\n",
              "    <tr>\n",
              "      <th>45</th>\n",
              "      <td>46</td>\n",
              "      <td>565</td>\n",
              "      <td>442</td>\n",
              "      <td>363</td>\n",
              "      <td>1633</td>\n",
              "      <td>2711</td>\n",
              "      <td>263</td>\n",
              "      <td>0.602361</td>\n",
              "      <td>partido_a</td>\n",
              "    </tr>\n",
              "    <tr>\n",
              "      <th>46</th>\n",
              "      <td>47</td>\n",
              "      <td>648</td>\n",
              "      <td>321</td>\n",
              "      <td>432</td>\n",
              "      <td>1664</td>\n",
              "      <td>2807</td>\n",
              "      <td>263</td>\n",
              "      <td>0.592804</td>\n",
              "      <td>partido_a</td>\n",
              "    </tr>\n",
              "    <tr>\n",
              "      <th>47</th>\n",
              "      <td>48</td>\n",
              "      <td>492</td>\n",
              "      <td>425</td>\n",
              "      <td>427</td>\n",
              "      <td>1552</td>\n",
              "      <td>2625</td>\n",
              "      <td>208</td>\n",
              "      <td>0.591238</td>\n",
              "      <td>partido_a</td>\n",
              "    </tr>\n",
              "    <tr>\n",
              "      <th>48</th>\n",
              "      <td>49</td>\n",
              "      <td>680</td>\n",
              "      <td>474</td>\n",
              "      <td>573</td>\n",
              "      <td>2029</td>\n",
              "      <td>3171</td>\n",
              "      <td>302</td>\n",
              "      <td>0.639861</td>\n",
              "      <td>partido_a</td>\n",
              "    </tr>\n",
              "    <tr>\n",
              "      <th>49</th>\n",
              "      <td>50</td>\n",
              "      <td>528</td>\n",
              "      <td>399</td>\n",
              "      <td>522</td>\n",
              "      <td>1773</td>\n",
              "      <td>2683</td>\n",
              "      <td>324</td>\n",
              "      <td>0.660827</td>\n",
              "      <td>partido_a</td>\n",
              "    </tr>\n",
              "  </tbody>\n",
              "</table>\n",
              "</div>"
            ],
            "text/plain": [
              "   casilla  partido_a  partido_b  partido_c  votos_total  lista_nominal  \\\n",
              "19      20        392        356        245         1442           2369   \n",
              "30      31        326        290        216         1293           1962   \n",
              "32      33        558        352        536         1721           2476   \n",
              "33      34        642        403        463         1738           2513   \n",
              "39      40        238        234        135          708            998   \n",
              "40      41        440        371        419         1480           2341   \n",
              "41      42        424        312        352         1318           1973   \n",
              "43      44        800        560        762         2423           4526   \n",
              "45      46        565        442        363         1633           2711   \n",
              "46      47        648        321        432         1664           2807   \n",
              "47      48        492        425        427         1552           2625   \n",
              "48      49        680        474        573         2029           3171   \n",
              "49      50        528        399        522         1773           2683   \n",
              "\n",
              "    nulos_otros_partidos  participacion    ganador  \n",
              "19                   449       0.608696  partido_a  \n",
              "30                   461       0.659021  partido_a  \n",
              "32                   275       0.695073  partido_a  \n",
              "33                   230       0.691604  partido_a  \n",
              "39                   101       0.709419  partido_a  \n",
              "40                   250       0.632208  partido_a  \n",
              "41                   230       0.668018  partido_a  \n",
              "43                   301       0.535351  partido_a  \n",
              "45                   263       0.602361  partido_a  \n",
              "46                   263       0.592804  partido_a  \n",
              "47                   208       0.591238  partido_a  \n",
              "48                   302       0.639861  partido_a  \n",
              "49                   324       0.660827  partido_a  "
            ]
          },
          "execution_count": 13,
          "metadata": {},
          "output_type": "execute_result"
        }
      ],
      "source": [
        "partido_a_primer_lugar"
      ]
    },
    {
      "cell_type": "code",
      "execution_count": 14,
      "metadata": {
        "colab": {
          "base_uri": "https://localhost:8080/"
        },
        "id": "zbrIuD-B6dQZ",
        "outputId": "092c655b-3df1-49e2-907d-76b2aad4ca5e"
      },
      "outputs": [
        {
          "name": "stdout",
          "output_type": "stream",
          "text": [
            "El margen de victoria total fue: 925\n"
          ]
        }
      ],
      "source": [
        "margen_victoria = (partido_a_primer_lugar[\"partido_a\"] - partido_a_primer_lugar[[\"partido_b\", \"partido_c\"]].max(axis=1)).sum()\n",
        "print(f\"El margen de victoria total fue: {margen_victoria}\")"
      ]
    },
    {
      "attachments": {},
      "cell_type": "markdown",
      "metadata": {
        "id": "HM7kO8zE7Y3I"
      },
      "source": [
        "Vemos que en las casillas que ganó *partido_a*, sólamente obtuvo un margen de victoria de 925 votos. Es decir, tuvo un margen de victoria estrecho y considerando que perdió en la mayoría de casillas, se entiende su tercer lugar en la elección."
      ]
    },
    {
      "attachments": {},
      "cell_type": "markdown",
      "metadata": {
        "id": "TG23QyqU3z6J"
      },
      "source": [
        "### Partido B\n",
        "\n",
        "*partido_b* quedó en 1er lugar en la elección y aunque no ganó las casillas con mayor cantidad de votos, fue el que ganó más casillas. Veamos su rendimineto en la elección"
      ]
    },
    {
      "cell_type": "code",
      "execution_count": 15,
      "metadata": {
        "colab": {
          "base_uri": "https://localhost:8080/"
        },
        "id": "rr9EqW8v2TtW",
        "outputId": "d37ac654-9808-4569-8489-a860d311d40e"
      },
      "outputs": [
        {
          "data": {
            "text/plain": [
              "primer_lugar     27\n",
              "segundo_lugar    12\n",
              "tercer_lugar     10\n",
              "Name: partido_b, dtype: int64"
            ]
          },
          "execution_count": 15,
          "metadata": {},
          "output_type": "execute_result"
        }
      ],
      "source": [
        "partido_b_primer_lugar = df[(df['partido_b'] > df['partido_a']) & (df['partido_b'] > df['partido_c'])]\n",
        "partido_b_segundo_lugar = df[((df['partido_b'] < df['partido_a']) & (df['partido_b'] > df['partido_c'])) |\n",
        "                              ((df['partido_b'] < df['partido_c']) & (df['partido_b'] > df['partido_a']))]\n",
        "partido_b_tercer_lugar = df[(df['partido_b'] < df['partido_a']) & (df['partido_b'] < df['partido_c'])]\n",
        "\n",
        "df_podio.loc['partido_b'] = [\n",
        "    partido_b_primer_lugar.shape[0],\n",
        "    partido_b_segundo_lugar.shape[0],\n",
        "    partido_b_tercer_lugar.shape[0]\n",
        "]\n",
        "\n",
        "df_podio.loc['partido_b']"
      ]
    },
    {
      "attachments": {},
      "cell_type": "markdown",
      "metadata": {
        "id": "ET9GKZj3598K"
      },
      "source": [
        "Observamos que *partido_b* ganó en 27 casillas, en 12 quedó en segundo lugar y\n",
        "en 10 quedó en tercer lugar."
      ]
    },
    {
      "cell_type": "code",
      "execution_count": 16,
      "metadata": {
        "colab": {
          "base_uri": "https://localhost:8080/"
        },
        "id": "9VHkJd6z5xV2",
        "outputId": "f80b96c1-f055-492f-fe70-b94e64eb4591"
      },
      "outputs": [
        {
          "name": "stdout",
          "output_type": "stream",
          "text": [
            "El margen de victoria total fue: 1842\n"
          ]
        }
      ],
      "source": [
        "margen_victoria = (partido_b_primer_lugar[\"partido_b\"] - partido_b_primer_lugar[[\"partido_a\", \"partido_c\"]].max(axis=1)).sum()\n",
        "print(f\"El margen de victoria total fue: {margen_victoria}\")"
      ]
    },
    {
      "attachments": {},
      "cell_type": "markdown",
      "metadata": {
        "id": "TEjBMZ5y8aHp"
      },
      "source": [
        "Observamos que el margen de victoria de *partido_b* es el mayor de los tres partidos. Aunque tuvo más terceros lugares que *partido_c*, el tener un mayor margen de victoria consolidó su victoria en la elección."
      ]
    },
    {
      "attachments": {},
      "cell_type": "markdown",
      "metadata": {
        "id": "yVmSQT2U7w5e"
      },
      "source": [
        "### Partido C\n",
        "\n",
        "*partido_c* quedó en segundo lugar en la elección por menos del 1% de los votos totales. Sin embargo, observamos que no ganó tantas casillas electorales, lo que llevó a *partido_c* a estar tan cerca de la victoria, fue que en muchas casillas se mantuvo en competencia al quedar en segundo lugar."
      ]
    },
    {
      "cell_type": "code",
      "execution_count": 17,
      "metadata": {
        "colab": {
          "base_uri": "https://localhost:8080/"
        },
        "id": "ifqmf2s57oan",
        "outputId": "766cc112-e012-49c0-e412-b792e7cd2863"
      },
      "outputs": [
        {
          "data": {
            "text/plain": [
              "primer_lugar      9\n",
              "segundo_lugar    32\n",
              "tercer_lugar      8\n",
              "Name: partido_c, dtype: int64"
            ]
          },
          "execution_count": 17,
          "metadata": {},
          "output_type": "execute_result"
        }
      ],
      "source": [
        "partido_c_primer_lugar = df[(df['partido_c'] > df['partido_a']) & (df['partido_c'] > df['partido_b'])]\n",
        "partido_c_segundo_lugar = df[((df['partido_c'] < df['partido_a']) & (df['partido_c'] > df['partido_b'])) |\n",
        "                              ((df['partido_c'] < df['partido_b']) & (df['partido_c'] > df['partido_a']))]\n",
        "partido_c_tercer_lugar = df[(df['partido_c'] < df['partido_a']) & (df['partido_c'] < df['partido_b'])]\n",
        "\n",
        "df_podio.loc['partido_c'] = [\n",
        "    partido_c_primer_lugar.shape[0],\n",
        "    partido_c_segundo_lugar.shape[0],\n",
        "    partido_c_tercer_lugar.shape[0]\n",
        "]\n",
        "\n",
        "df_podio.loc['partido_c']"
      ]
    },
    {
      "cell_type": "code",
      "execution_count": 18,
      "metadata": {
        "colab": {
          "base_uri": "https://localhost:8080/"
        },
        "id": "QtWmVYvl8A3o",
        "outputId": "0f2158e0-703a-45e1-c919-f48e4cbfb26d"
      },
      "outputs": [
        {
          "name": "stdout",
          "output_type": "stream",
          "text": [
            "El margen de victoria total fue: 1095\n"
          ]
        }
      ],
      "source": [
        "margen_victoria = (partido_c_primer_lugar[\"partido_c\"] - partido_c_primer_lugar[[\"partido_a\", \"partido_b\"]].max(axis=1)).sum()\n",
        "print(f\"El margen de victoria total fue: {margen_victoria}\")"
      ]
    },
    {
      "cell_type": "code",
      "execution_count": 21,
      "metadata": {},
      "outputs": [],
      "source": [
        "# Crear el archivo XLSX\n",
        "with pd.ExcelWriter('data.xlsx') as writer:\n",
        "    df.to_excel(writer, sheet_name='data', index=False)\n",
        "    df_podio.to_excel(writer, sheet_name='podio', index=True)"
      ]
    },
    {
      "attachments": {},
      "cell_type": "markdown",
      "metadata": {
        "id": "oIOgPLB88-zA"
      },
      "source": [
        "## Conclusiones\n",
        "\n",
        "\n",
        "\n",
        "1.   El triunfador de la elección fue *partido_b* por un margen menor al 1%, es decir, se tuvo una elección reñida.\n",
        "2.   El porcentaje de participación fue de casi de 65%, teniendo en cuenta los datos de participación de [paises como Estados Unidos o Suiza, se considera una participación saludable](https://www.scielo.org.mx/scielo.php?script=sci_arttext&pid=S1665-05652011000200008).\n",
        "3.   En número de casillas, *partido_b* fue el que más casillas ganó, sin embargo, la mayoría de las casillas que ganó fueron casillas donde la cantidad de votos no era tan grande, comparadas con las que ganaron *partido_a* y *partido_c*, haciendo la elección más cerrada\n",
        "4.   Aunque *partido_a* ganó más casillas que *partido_c*, el haber tenido tantos resultados en tercer lugar, hizo que se alejara de la victoria.\n"
      ]
    }
  ],
  "metadata": {
    "colab": {
      "provenance": [],
      "toc_visible": true
    },
    "kernelspec": {
      "display_name": "Python 3",
      "name": "python3"
    },
    "language_info": {
      "codemirror_mode": {
        "name": "ipython",
        "version": 3
      },
      "file_extension": ".py",
      "mimetype": "text/x-python",
      "name": "python",
      "nbconvert_exporter": "python",
      "pygments_lexer": "ipython3",
      "version": "3.9.6"
    }
  },
  "nbformat": 4,
  "nbformat_minor": 0
}
