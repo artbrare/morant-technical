{
  "cells": [
    {
      "attachments": {},
      "cell_type": "markdown",
      "metadata": {
        "id": "Lp9xQRERn0Di"
      },
      "source": [
        "# Morant Consultores - Evaluación Inicial\n",
        "\n",
        "\n",
        "---\n",
        "\n",
        "> Resuelto por: *Arturo Bravo Reynaga*"
      ]
    },
    {
      "cell_type": "code",
      "execution_count": 1,
      "metadata": {
        "id": "zc3PKG6Us932"
      },
      "outputs": [],
      "source": [
        "import math\n",
        "import bisect\n",
        "import time"
      ]
    },
    {
      "attachments": {},
      "cell_type": "markdown",
      "metadata": {
        "id": "umm2V8IPpMwX"
      },
      "source": [
        "# Problema 4\n"
      ]
    },
    {
      "attachments": {},
      "cell_type": "markdown",
      "metadata": {
        "id": "JfeALoA2Mrz9"
      },
      "source": [
        "Encuentra el error y modifica el siguiente código para encontrar los números primos correctos que se encuentren entre dos números enteros.\n",
        "\n",
        "\n",
        "\n",
        "```\n",
        "find_primes <- function(start, end) {\n",
        "  primes <- c()\n",
        "  \n",
        "  for (i in start:end) {\n",
        "    if (i < 2) {\n",
        "      next\n",
        "    }\n",
        "    if (i == 2) {\n",
        "      primes <- c(primes, i)  \n",
        "      next\n",
        "    }\n",
        "    is_prime <- FALSE\n",
        "    for (j in 2:ceiling(sqrt(i))) {\n",
        "      if (j == 2 || j %% 2 != 0) {\n",
        "        if (i %% j == 0) {\n",
        "          is_prime <- TRUE\n",
        "          break\n",
        "        }\n",
        "      }\n",
        "    }\n",
        "    if (is_prime) {\n",
        "      primes <- c(primes, i)\n",
        "    }\n",
        "  }\n",
        "  \n",
        "  return(primes)\n",
        "}\n",
        "```\n"
      ]
    },
    {
      "attachments": {},
      "cell_type": "markdown",
      "metadata": {
        "id": "nKKuWYkkrWTz"
      },
      "source": [
        "## Respuesta\n",
        "\n",
        "Lo que necesitamos hacer primero es entender el código, por lo que escribiremos la función, tal cual está, en Python\n"
      ]
    },
    {
      "cell_type": "code",
      "execution_count": 2,
      "metadata": {
        "id": "_jLdT7H0r6Zo"
      },
      "outputs": [],
      "source": [
        "def find_primes(start, end):\n",
        "\n",
        "  primes = []\n",
        "\n",
        "  # En python, el segundo argumento no es inclusivo\n",
        "  for i in range(start, end + 1):\n",
        "\n",
        "    # Se considera que el 1 no es primo.\n",
        "    if i < 2:\n",
        "      continue\n",
        "\n",
        "    if i == 2: # (1)\n",
        "      primes.append(i)\n",
        "      continue\n",
        "\n",
        "    is_prime = False # (2)\n",
        "\n",
        "    # Para que i sea primo, i no tiene que tener divisores mayores que 1.\n",
        "    # No es necesario revisar si todos los números [2, n-1] son divisores,\n",
        "    # Basta revisar desde [2, ceil(sqrt(n))] ya que si n = a*b (no seria\n",
        "    # primo), y consideremos que a < b, eso implica que a*a < a*b, que es\n",
        "    # equivalente a que a*a < n o que a < sqrt(n).\n",
        "    for j in range(2, math.ceil(math.sqrt(i)) + 1): # (3)\n",
        "      # Notamos que el único lugar donde cambiaremos el flag \"is_prime\" es\n",
        "      # dentro de este bloque. Notamos que para entrar al primer \"if\"\n",
        "      # el número j (que será el divisor) tiene que ser 2 o impar, lo cual\n",
        "      # indica el primer problema\n",
        "      if j == 2 or j % 2 != 0: # (4)\n",
        "        # En este momento j es el número 2 o es un número impar\n",
        "        if i % j == 0:\n",
        "          # si j divide a i entonces se marca la bandera \"is_prime\" como true,\n",
        "          # vemos que j no es 1, y j divide a i, por definición no es primo.\n",
        "          is_prime = True\n",
        "          break\n",
        "\n",
        "    if is_prime:\n",
        "      primes.append(i)\n",
        "\n",
        "  return primes\n"
      ]
    },
    {
      "cell_type": "code",
      "execution_count": 3,
      "metadata": {
        "colab": {
          "base_uri": "https://localhost:8080/"
        },
        "id": "EOWp5uC1sVmA",
        "outputId": "a2b30bb3-65e1-47ea-a615-335f9ca337a3"
      },
      "outputs": [
        {
          "name": "stdout",
          "output_type": "stream",
          "text": [
            "[2, 4, 6, 8, 9, 10, 12, 14, 15, 16, 18, 20]\n"
          ]
        }
      ],
      "source": [
        "# Probamos el código para encontrar los primos de los primeros 20 números y\n",
        "# confirmamos que el código no funciona adecuadamente.\n",
        "print(find_primes(1, 20))"
      ]
    },
    {
      "attachments": {},
      "cell_type": "markdown",
      "metadata": {
        "id": "xvMn9VuN1F6A"
      },
      "source": [
        "\n",
        "Pasos a seguir:\n",
        "\n",
        "1.   Podemos eliminar el código marcado con \"1\" ya que podemos encontrar que 2 es primo con la solución propuesta.\n",
        "2.   Podemos quitar la bandera \"is_prime\", ya que con la solución propuesta utilizaremos una función auxiliar \"is_prime(), la cual envolverá el código para saber si el número i es primo.\"\n",
        "3.   Esto no es necesario, sin embargo, hace que el código sea más claro. Podemeos cambiar el \"for\" por un \"while\" y la condición será while j * j <= i, que es equivalente pero nos evita trabajar con redondeos.\n",
        "4.   Este bloque se tiene que modificar por completo, diremos que si j divide a i, i no es primo, por lo que saldremos del primer for sin agregar el número i a la lista de primos.\n",
        "\n"
      ]
    },
    {
      "cell_type": "code",
      "execution_count": 4,
      "metadata": {
        "id": "2zcqQ6u-tqca"
      },
      "outputs": [],
      "source": [
        "# Para claridad del código\n",
        "def is_prime(i):\n",
        "\n",
        "  if i < 2: return False\n",
        "\n",
        "  j = 2\n",
        "  while j * j <= i:\n",
        "    if i % j == 0: # j es divisor del número\n",
        "      return False\n",
        "    j += 1\n",
        "  return True\n",
        "\n",
        "\n",
        "def corrected_find_primes(start, end):\n",
        "\n",
        "  primes = []\n",
        "\n",
        "  for i in range(start, end + 1):\n",
        "    if is_prime(i): primes.append(i)\n",
        "\n",
        "  return primes\n"
      ]
    },
    {
      "cell_type": "code",
      "execution_count": 5,
      "metadata": {
        "colab": {
          "base_uri": "https://localhost:8080/"
        },
        "id": "iwPeaE--8Wus",
        "outputId": "59b4c7e6-51b2-4e98-d5c8-0eaed1f795ed"
      },
      "outputs": [
        {
          "name": "stdout",
          "output_type": "stream",
          "text": [
            "[2, 3, 5, 7, 11, 13, 17, 19]\n"
          ]
        }
      ],
      "source": [
        "# Probamos la función corregida con los primeros 20 números\n",
        "print(corrected_find_primes(1, 20))"
      ]
    },
    {
      "attachments": {},
      "cell_type": "markdown",
      "metadata": {
        "id": "SozMRJnc8aOd"
      },
      "source": [
        "## Extra: Una solución para casos especificos\n",
        "\n",
        "Existe otro método más rápido para encontrar los primeros n primos. Como nuestro problema considera un rango (start, end). Este método funcionará cuando start se considere pequeño o cuando la diferencia entre start y end se considere grande.\n",
        "\n",
        "\n",
        "Utilizaremos la [criba de Erastótenes](https://es.wikipedia.org/wiki/Criba_de_Erat%C3%B3stenes), la cual es un algoritmo que nos permite encontrar todos los primos menores a n. En este caso encontraremos todos los primos menores o iguales a n.\n"
      ]
    },
    {
      "cell_type": "code",
      "execution_count": 6,
      "metadata": {
        "id": "RTIH9a2D9ayX"
      },
      "outputs": [],
      "source": [
        "def find_primes_erathostenes(start, end):\n",
        "  if end <= 1: return 0\n",
        "\n",
        "  primes = [True] * (end + 1)\n",
        "  primes[0], primes[1] = False, False\n",
        "\n",
        "  j = 2\n",
        "  while j * j <= end:\n",
        "    if primes[j]:\n",
        "      for k in range(j * j, end + 1, j):\n",
        "        primes[k] = False\n",
        "    j += 1\n",
        "\n",
        "  # Solo nos quedamos con los números primos\n",
        "  primes = [i for i, is_prime in enumerate(primes) if is_prime]\n",
        "\n",
        "  # Usamos el método de bisección para ubicar nuestro nuevo start\n",
        "  new_start = bisect.bisect_left(primes, start)\n",
        "  return primes[new_start:]"
      ]
    },
    {
      "cell_type": "code",
      "execution_count": 7,
      "metadata": {
        "colab": {
          "base_uri": "https://localhost:8080/"
        },
        "id": "IfzF0ztU_TWB",
        "outputId": "e280e4ab-f501-4e65-d62b-6fa8fcafe781"
      },
      "outputs": [
        {
          "name": "stdout",
          "output_type": "stream",
          "text": [
            "[2, 3, 5, 7, 11, 13, 17, 19]\n"
          ]
        }
      ],
      "source": [
        "print(find_primes_erathostenes(1, 20))"
      ]
    },
    {
      "cell_type": "code",
      "execution_count": 8,
      "metadata": {
        "colab": {
          "base_uri": "https://localhost:8080/"
        },
        "id": "JsaNuPAD_rfe",
        "outputId": "f2da81f3-a959-4e61-b368-25ae97a8d283"
      },
      "outputs": [
        {
          "name": "stdout",
          "output_type": "stream",
          "text": [
            "find_primes() time: 4.12822699546814 s\n",
            "find_primes_erathostenes() time: 0.06702494621276855 s\n",
            "¿Las soluciones son iguales?: True\n",
            "78498\n",
            "78498\n"
          ]
        }
      ],
      "source": [
        "# Contamos el tiempo que se tarda find_primes vs find_primes_erathostenes\n",
        "start = time.time()\n",
        "original = corrected_find_primes(1, 10**6)\n",
        "end = time.time()\n",
        "\n",
        "find_primes_time = end - start\n",
        "\n",
        "start_e = time.time()\n",
        "erathostenes = find_primes_erathostenes(1, 10**6)\n",
        "end_e = time.time()\n",
        "\n",
        "find_primes_erathostenes_time = end_e - start_e\n",
        "\n",
        "print(f'find_primes() time: {find_primes_time} s')\n",
        "print(f'find_primes_erathostenes() time: {find_primes_erathostenes_time} s')\n",
        "print(f'¿Las soluciones son iguales?: {original == erathostenes}')\n",
        "\n",
        "print(len(original))\n",
        "print(len(erathostenes))"
      ]
    }
  ],
  "metadata": {
    "colab": {
      "provenance": [],
      "toc_visible": true
    },
    "kernelspec": {
      "display_name": "Python 3",
      "name": "python3"
    },
    "language_info": {
      "codemirror_mode": {
        "name": "ipython",
        "version": 3
      },
      "file_extension": ".py",
      "mimetype": "text/x-python",
      "name": "python",
      "nbconvert_exporter": "python",
      "pygments_lexer": "ipython3",
      "version": "3.9.6"
    }
  },
  "nbformat": 4,
  "nbformat_minor": 0
}
