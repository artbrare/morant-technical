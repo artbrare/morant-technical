{
  "cells": [
    {
      "cell_type": "code",
      "execution_count": 1,
      "metadata": {
        "id": "F4P-jLjRcdt1"
      },
      "outputs": [],
      "source": [
        "import pyreadr\n",
        "import pandas as pd\n",
        "import numpy as np\n",
        "from scipy import stats"
      ]
    },
    {
      "attachments": {},
      "cell_type": "markdown",
      "metadata": {
        "id": "Y-g_XEsXckJd"
      },
      "source": [
        "# Morant Consultores - Evaluación Inicial\n",
        "\n",
        "\n",
        "---\n",
        "\n",
        "> Resuelto por: *Arturo Bravo Reynaga*"
      ]
    },
    {
      "attachments": {},
      "cell_type": "markdown",
      "metadata": {
        "id": "MZN-VxnLc398"
      },
      "source": [
        "# Problema 2\n",
        "\n",
        "Descargue la base de datos data/encuesta_f.rda que contiene información de una encuesta ficticia. Esta encuesta tiene un diseño muestral polietápico que incluye etapas de estratos y etapas de conglomerados. La base de datos tiene un identificador de la persona, el partido por el que votaría y el peso correspondiente a cada entrevistado para la estimación.\n",
        "\n",
        "Presente una estimación puntual de la proporción de personas a favor de cada partido.\n",
        "\n",
        "¿De qué tamaño es la población sujeta a análisis?\n",
        "\n",
        "Ahora suponga que la muestra fue extraída bajo un esquema de muestreo aleatorio simple, presente los intervalos de confianza para la estimación de la proporción de personas a favor de cada partido.\n",
        "\n",
        "¿Qué podría concluir de estos intervalos?"
      ]
    },
    {
      "cell_type": "code",
      "execution_count": 2,
      "metadata": {
        "colab": {
          "base_uri": "https://localhost:8080/"
        },
        "id": "lowUFLIkck0t",
        "outputId": "15165593-c0e6-4f64-a6d9-2680c763b0cd"
      },
      "outputs": [
        {
          "name": "stdout",
          "output_type": "stream",
          "text": [
            "<class 'pandas.core.frame.DataFrame'>\n",
            "RangeIndex: 400 entries, 0 to 399\n",
            "Data columns (total 3 columns):\n",
            " #   Column       Non-Null Count  Dtype  \n",
            "---  ------       --------------  -----  \n",
            " 0   id           400 non-null    int32  \n",
            " 1   preferencia  400 non-null    object \n",
            " 2   peso         400 non-null    float64\n",
            "dtypes: float64(1), int32(1), object(1)\n",
            "memory usage: 7.9+ KB\n"
          ]
        }
      ],
      "source": [
        "result = pyreadr.read_r('encuesta_f.rda')\n",
        "df = result[None]\n",
        "\n",
        "df.info()"
      ]
    },
    {
      "cell_type": "code",
      "execution_count": 3,
      "metadata": {
        "colab": {
          "base_uri": "https://localhost:8080/",
          "height": 363
        },
        "id": "I_mCC7NtdHNx",
        "outputId": "64e945e1-257b-461d-b2d6-dbe3761469a5"
      },
      "outputs": [
        {
          "data": {
            "text/html": [
              "<div>\n",
              "<style scoped>\n",
              "    .dataframe tbody tr th:only-of-type {\n",
              "        vertical-align: middle;\n",
              "    }\n",
              "\n",
              "    .dataframe tbody tr th {\n",
              "        vertical-align: top;\n",
              "    }\n",
              "\n",
              "    .dataframe thead th {\n",
              "        text-align: right;\n",
              "    }\n",
              "</style>\n",
              "<table border=\"1\" class=\"dataframe\">\n",
              "  <thead>\n",
              "    <tr style=\"text-align: right;\">\n",
              "      <th></th>\n",
              "      <th>id</th>\n",
              "      <th>preferencia</th>\n",
              "      <th>peso</th>\n",
              "    </tr>\n",
              "  </thead>\n",
              "  <tbody>\n",
              "    <tr>\n",
              "      <th>0</th>\n",
              "      <td>6731</td>\n",
              "      <td>Partido 2</td>\n",
              "      <td>6.793545</td>\n",
              "    </tr>\n",
              "    <tr>\n",
              "      <th>1</th>\n",
              "      <td>2161</td>\n",
              "      <td>Partido 2</td>\n",
              "      <td>4.912335</td>\n",
              "    </tr>\n",
              "    <tr>\n",
              "      <th>2</th>\n",
              "      <td>8019</td>\n",
              "      <td>Partido 2</td>\n",
              "      <td>39.257424</td>\n",
              "    </tr>\n",
              "    <tr>\n",
              "      <th>3</th>\n",
              "      <td>9037</td>\n",
              "      <td>Partido 2</td>\n",
              "      <td>24.277547</td>\n",
              "    </tr>\n",
              "    <tr>\n",
              "      <th>4</th>\n",
              "      <td>1099</td>\n",
              "      <td>Partido 2</td>\n",
              "      <td>10.351223</td>\n",
              "    </tr>\n",
              "    <tr>\n",
              "      <th>5</th>\n",
              "      <td>4244</td>\n",
              "      <td>Partido 2</td>\n",
              "      <td>33.473788</td>\n",
              "    </tr>\n",
              "    <tr>\n",
              "      <th>6</th>\n",
              "      <td>1137</td>\n",
              "      <td>Partido 1</td>\n",
              "      <td>49.636285</td>\n",
              "    </tr>\n",
              "    <tr>\n",
              "      <th>7</th>\n",
              "      <td>1758</td>\n",
              "      <td>ns/nc</td>\n",
              "      <td>11.090651</td>\n",
              "    </tr>\n",
              "    <tr>\n",
              "      <th>8</th>\n",
              "      <td>2667</td>\n",
              "      <td>Partido 2</td>\n",
              "      <td>15.342555</td>\n",
              "    </tr>\n",
              "    <tr>\n",
              "      <th>9</th>\n",
              "      <td>6802</td>\n",
              "      <td>Partido 2</td>\n",
              "      <td>45.594544</td>\n",
              "    </tr>\n",
              "  </tbody>\n",
              "</table>\n",
              "</div>"
            ],
            "text/plain": [
              "     id preferencia       peso\n",
              "0  6731   Partido 2   6.793545\n",
              "1  2161   Partido 2   4.912335\n",
              "2  8019   Partido 2  39.257424\n",
              "3  9037   Partido 2  24.277547\n",
              "4  1099   Partido 2  10.351223\n",
              "5  4244   Partido 2  33.473788\n",
              "6  1137   Partido 1  49.636285\n",
              "7  1758       ns/nc  11.090651\n",
              "8  2667   Partido 2  15.342555\n",
              "9  6802   Partido 2  45.594544"
            ]
          },
          "execution_count": 3,
          "metadata": {},
          "output_type": "execute_result"
        }
      ],
      "source": [
        "df.head(10)"
      ]
    },
    {
      "attachments": {},
      "cell_type": "markdown",
      "metadata": {
        "id": "OaQxLRv41MaW"
      },
      "source": [
        "Al explorar los datos, notamos un valor extraño \"ns/nc\", por lo que vemos cuales son los valores que la columna \"preferencia\" puede tomar."
      ]
    },
    {
      "cell_type": "code",
      "execution_count": 4,
      "metadata": {
        "colab": {
          "base_uri": "https://localhost:8080/"
        },
        "id": "WZmUq0t-dSMt",
        "outputId": "ef7fb22f-83ad-4676-b164-6d66d02633f3"
      },
      "outputs": [
        {
          "name": "stdout",
          "output_type": "stream",
          "text": [
            "['Partido 2' 'Partido 1' 'ns/nc' 'Partido 3']\n"
          ]
        }
      ],
      "source": [
        "valores_preferencia = df['preferencia'].unique()\n",
        "print(valores_preferencia)"
      ]
    },
    {
      "attachments": {},
      "cell_type": "markdown",
      "metadata": {
        "id": "kF9CuMu_1YGV"
      },
      "source": [
        "Notamos que el único valor extraño es \"ns/nc\", suponemos que su significado es: personas que no están seguras o que no votarán por algún partido de los presentados en la encuesta, por lo que haremos el análisis considerando sólamente las personas que votarán por alguno de los tres partidos."
      ]
    },
    {
      "cell_type": "code",
      "execution_count": 5,
      "metadata": {
        "colab": {
          "base_uri": "https://localhost:8080/"
        },
        "id": "chnt5UOnffIG",
        "outputId": "c750df40-d0bf-40d1-b8e2-606f396263b6"
      },
      "outputs": [
        {
          "name": "stdout",
          "output_type": "stream",
          "text": [
            "371\n"
          ]
        }
      ],
      "source": [
        "# Filtrar las observaciones con partido válido (excluir \"ns/nc\")\n",
        "df = df[df['preferencia'] != 'ns/nc']\n",
        "print(df.shape[0])"
      ]
    },
    {
      "attachments": {},
      "cell_type": "markdown",
      "metadata": {
        "id": "FvGoi06r1m6x"
      },
      "source": [
        "Observamos que 371 personas de 400 votarán por algún partido. El siguiente paso es obtener la estimación utilizando la ponderación de los pesos de cada persona, dada por el tipo de muestra en este ejemplo."
      ]
    },
    {
      "cell_type": "code",
      "execution_count": 6,
      "metadata": {
        "colab": {
          "base_uri": "https://localhost:8080/"
        },
        "id": "4o1Ud_0tfk4c",
        "outputId": "b142d29f-78e3-4077-ba3a-8c3d9adc2bc4"
      },
      "outputs": [
        {
          "name": "stdout",
          "output_type": "stream",
          "text": [
            "preferencia\n",
            "Partido 1    0.433518\n",
            "Partido 2    0.474768\n",
            "Partido 3    0.091714\n",
            "Name: proporcion_ponderada, dtype: float64\n"
          ]
        },
        {
          "name": "stderr",
          "output_type": "stream",
          "text": [
            "/var/folders/zp/c20v8419619gb_1d1q5vxk700000gn/T/ipykernel_62530/1026127889.py:3: SettingWithCopyWarning: \n",
            "A value is trying to be set on a copy of a slice from a DataFrame.\n",
            "Try using .loc[row_indexer,col_indexer] = value instead\n",
            "\n",
            "See the caveats in the documentation: https://pandas.pydata.org/pandas-docs/stable/user_guide/indexing.html#returning-a-view-versus-a-copy\n",
            "  df.loc[:,'proporcion_ponderada'] = df['peso'] / total_ponderado\n"
          ]
        }
      ],
      "source": [
        "total_ponderado = df['peso'].sum()\n",
        "\n",
        "df.loc[:,'proporcion_ponderada'] = df['peso'] / total_ponderado\n",
        "\n",
        "estimacion_puntual = df.groupby('preferencia')['proporcion_ponderada'].sum()\n",
        "print(estimacion_puntual)"
      ]
    },
    {
      "attachments": {},
      "cell_type": "markdown",
      "metadata": {
        "id": "J99RFW-W10Mp"
      },
      "source": [
        "Observamos que el partido 2 tiene una ligera ventaja sobre el partido 1 utilizando este método.\n",
        "\n",
        "\n",
        "Ahora, considerando un muestreo aleatorio simple, consideramos la muestra homogenea, por lo que los pesos no son necesarios. El siguiente paso es obtener [los estimadores de proporción y los intervalos de confianza](https://virtual.uptc.edu.co/ova/estadistica/docs/libros/estadistica1/cap01d.html) correspondientes."
      ]
    },
    {
      "cell_type": "code",
      "execution_count": 11,
      "metadata": {
        "colab": {
          "base_uri": "https://localhost:8080/"
        },
        "id": "35GAhU1BifGs",
        "outputId": "c745dc03-ae28-41a1-9bd3-2bb4c5ceeeba"
      },
      "outputs": [
        {
          "name": "stdout",
          "output_type": "stream",
          "text": [
            "     Partido  Estimador puntual                Intervalo de confianza (95%)\n",
            "0  Partido 1           0.444744   (0.39417744529417786, 0.4953104253257682)\n",
            "1  Partido 2           0.471698   (0.42090155504989785, 0.5224946713651966)\n",
            "2  Partido 3           0.083558  (0.05539958013465698, 0.11171632283030258)\n"
          ]
        }
      ],
      "source": [
        "\n",
        "partidos_unicos = df['preferencia'].unique()\n",
        "partidos_unicos.sort()\n",
        "resultados = []\n",
        "\n",
        "total_votos = df.shape[0]  # Número total de votos\n",
        "\n",
        "for partido in partidos_unicos:\n",
        "    votos_partido = df[df['preferencia'] == partido]['id']\n",
        "    n = votos_partido.shape[0]\n",
        "    proporcion = n / total_votos\n",
        "    std_error = np.sqrt(proporcion * (1 - proporcion) / total_votos)\n",
        "    intervalo_confianza = stats.norm.interval(0.95, loc=proporcion, scale=std_error)\n",
        "\n",
        "    resultado = {\n",
        "        'Partido': partido,\n",
        "        'Estimador puntual': proporcion,\n",
        "        'Intervalo de confianza (95%)': intervalo_confianza\n",
        "    }\n",
        "    resultados.append(resultado)\n",
        "\n",
        "# Creamos un DataFrame con los resultados\n",
        "df_resultados = pd.DataFrame(resultados)\n",
        "\n",
        "print(df_resultados)"
      ]
    },
    {
      "cell_type": "code",
      "execution_count": 12,
      "metadata": {},
      "outputs": [],
      "source": [
        "with pd.ExcelWriter('data.xlsx') as writer:\n",
        "    df.to_excel(writer, sheet_name='data', index=False)\n",
        "    estimacion_puntual.to_excel(writer, sheet_name='con_ponderacion', index=True)\n",
        "    df_resultados.to_excel(writer, sheet_name='intervalos_confianza', index=False)"
      ]
    },
    {
      "attachments": {},
      "cell_type": "markdown",
      "metadata": {
        "id": "YcVkzZbtl-i6"
      },
      "source": [
        "Podemos concluir lo siguiente:\n",
        "\n",
        "1.   Partido 1: El estimador puntual de proporción de votos para el Partido 1 es del 44.47%. El intervalo de confianza del 95% indica que, con un 95% de confianza, la proporción de votos para el Partido 1 se encuentra entre el 39.42% y el 49.53%.\n",
        "2.   Partido 2: El estimador puntual de proporción de votos para el Partido 2 es del 47.17%. El intervalo de confianza del 95% indica que, con un 95% de confianza, la proporción de votos para el Partido 2 se encuentra entre el 42.09% y el 52.25%.\n",
        "3.   Partido 3: El estimador puntual de proporción de votos para el Partido 3 es del 8.36%. El intervalo de confianza del 95% indica que, con un 95% de confianza, la proporción de votos para el Partido 3 se encuentra entre el 5.54% y el 11.17%.\n",
        "\n",
        "\n",
        "\n"
      ]
    },
    {
      "attachments": {},
      "cell_type": "markdown",
      "metadata": {},
      "source": []
    }
  ],
  "metadata": {
    "colab": {
      "provenance": [],
      "toc_visible": true
    },
    "kernelspec": {
      "display_name": "Python 3",
      "name": "python3"
    },
    "language_info": {
      "codemirror_mode": {
        "name": "ipython",
        "version": 3
      },
      "file_extension": ".py",
      "mimetype": "text/x-python",
      "name": "python",
      "nbconvert_exporter": "python",
      "pygments_lexer": "ipython3",
      "version": "3.9.6"
    }
  },
  "nbformat": 4,
  "nbformat_minor": 0
}
